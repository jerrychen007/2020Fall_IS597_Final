{
 "cells": [
  {
   "cell_type": "code",
   "execution_count": 1,
   "metadata": {},
   "outputs": [
    {
     "name": "stdout",
     "output_type": "stream",
     "text": [
      "We have these enemy types to select: Champion, Halberdier, Paladin, Elite_War_Elephant, Hussar, Arbalester, Hand_Cannoneer, Heavy_Cavalry_Archer\n",
      "Enter the enemy type: Arbalester\n"
     ]
    }
   ],
   "source": [
    "import matplotlib.pyplot as plt\n",
    "import pandas as pd\n",
    "import math\n",
    "import random\n",
    "import configurefile\n",
    "\n",
    "soldiers_info = pd.read_csv('soldiers.csv')\n",
    "col_to_list = soldiers_info['enemy_type'].tolist()\n",
    "str = ', '.join(col_to_list)\n",
    "print(\"We have these enemy types to select: \" + str)\n",
    "\n",
    "enemy_type = input(\"Enter the enemy type: \")\n",
    "\n",
    "def hits_to_kill(enemy_type, PALADIN_HEALTH):\n",
    "    \"\"\"Calculate how many hits will need to kill the opponent\n",
    "    :return: the number of hits to kill a paladin and the number of hits to kill a enemy\n",
    "    >>> hits_to_kill('Hussar', 192)\n",
    "    (32, 7)\n",
    "    \"\"\"\n",
    "    attack_type = soldiers_info.loc[soldiers_info['enemy_type'] == enemy_type, \"attack_type\"].item()\n",
    "    attack = soldiers_info.loc[soldiers_info['enemy_type'] == enemy_type, 'attack'].item()\n",
    "    health = soldiers_info.loc[soldiers_info['enemy_type'] == enemy_type, 'health'].item()\n",
    "    normal_armor = soldiers_info.loc[soldiers_info['enemy_type'] == enemy_type, 'normal_armor'].item()\n",
    "    pierce_armor = soldiers_info.loc[soldiers_info['enemy_type'] == enemy_type, 'pierce_armor'].item()\n",
    "    if attack_type == 'normal':\n",
    "        hits_can_take = PALADIN_HEALTH / (attack - DEFAULT_PALADIN_NORMAL_ARMOR)\n",
    "        hits_to_kill_enemy = health / (DEFAULT_PALADIN_ATTACK - normal_armor)\n",
    "    elif attack_type == 'pierce':\n",
    "        hits_can_take = PALADIN_HEALTH / (attack - DEFAULT_PALADIN_PIERCE_ARMOR)\n",
    "        hits_to_kill_enemy = health / (DEFAULT_PALADIN_ATTACK - normal_armor)\n",
    "    hits_can_take = math.ceil(hits_can_take)\n",
    "    hits_to_kill_enemy = math.ceil(hits_to_kill_enemy)\n",
    "    return hits_can_take, hits_to_kill_enemy\n",
    "\n",
    "\n",
    "def simNGames(number_of_simulations, PALADIN_NUMBER, ENEMY_NUMBER, enemy_type, PALADIN_HEALTH):\n",
    "    \"\"\"Run the simulation multiple times and count the win rate\n",
    "    :return: win rate of a certain number of paladins against a certain number of enemies\n",
    "    \"\"\"\n",
    "    winsP = winsE = 0\n",
    "    for i in range(number_of_simulations):\n",
    "        win = simOneGame(PALADIN_NUMBER, ENEMY_NUMBER, enemy_type, PALADIN_HEALTH)\n",
    "        if win == 1:\n",
    "            winsP = winsP + 1\n",
    "        else:\n",
    "            winsE = winsE + 1\n",
    "    win_rate = winsP / number_of_simulations\n",
    "    return win_rate\n",
    "\n",
    "\n",
    "def simOneGame(PALADIN_NUMBER, ENEMY_NUMBER, enemy_type, PALADIN_HEALTH):\n",
    "    \"\"\"Simulation of a battle\n",
    "    :return: 1 means paladins win, 0 means the enemy wins\n",
    "    >>> simOneGame(1, 2, 'Hussar', 192)\n",
    "    1\n",
    "    \"\"\"\n",
    "    hits_can_take, hits_to_kill_enemy = hits_to_kill(enemy_type, PALADIN_HEALTH)\n",
    "    p = {}\n",
    "    e = {}\n",
    "    for i in range(ENEMY_NUMBER):\n",
    "        e[i] = hits_to_kill_enemy\n",
    "    for i in range(PALADIN_NUMBER):\n",
    "        p[i] = hits_can_take\n",
    "    win = fight(p, e)\n",
    "    return win\n",
    "\n",
    "\n",
    "def fight(p, e):\n",
    "    \"\"\"Using two dictionaries to simulate the rounds in a battle\n",
    "    :return: 1 means paladins win, 0 means the enemy wins\n",
    "    \"\"\"\n",
    "    while checkwin(p, e) is False:\n",
    "        paladin_targets = []\n",
    "        enemies_targets = []\n",
    "        for i in range(len(p.keys())):\n",
    "            foes = list(e.keys())\n",
    "            paladin_targets.append(random.choice(foes)) # Each solider randomly pick a foe and decrease its health\n",
    "        for i in range(len(e.keys())):\n",
    "            foes = list(p.keys())\n",
    "            enemies_targets.append(random.choice(foes))\n",
    "        for t in paladin_targets:\n",
    "            e[t] = e[t] - 1\n",
    "        for t in enemies_targets:\n",
    "            p[t] = p[t] - 1\n",
    "        p, e = checkdeath(p, e) # Check if any soldier died in last round\n",
    "        if bool(p): # Check if one party has been wiped out\n",
    "            win = 1\n",
    "        else:\n",
    "            win = 0\n",
    "    return win\n",
    "\n",
    "\n",
    "def checkdeath(p, e):\n",
    "    \"\"\"Check if any soldier died in last round. Remove dead soldiers from dictionaries\n",
    "    :return: dictionaries with dead soldiers removed\n",
    "    >>> checkdeath({0: 1, 1: 0}, {0: 3, 1: 4, 2: 2})\n",
    "    ({0: 1}, {0: 3, 1: 4, 2: 2})\n",
    "    \"\"\"\n",
    "    if any(y <= 0 for y in p.values()):\n",
    "        p = {x: y for x, y in p.items() if y > 0}\n",
    "    if any(y <= 0 for y in e.values()):\n",
    "        e = {x: y for x, y in e.items() if y > 0}\n",
    "    return p, e\n",
    "\n",
    "\n",
    "def checkwin(p, e):\n",
    "    \"\"\"Check if one party has been wiped out. If a dictionary is empty, that means all soldiers are dead\n",
    "    >>> checkwin({}, {0: 3, 1: 4, 2: 2})\n",
    "    True\n",
    "    >>> checkwin({0: 1, 1: 0}, {0: 3, 1: 4, 2: 2})\n",
    "    False\n",
    "    \"\"\"\n",
    "    if bool(p) and bool(e):\n",
    "        return False\n",
    "    else:\n",
    "        return True\n",
    "\n",
    "\n",
    "def draw_graph(paladin_health, initial_enemy_number, maximum_enemy_number):\n",
    "    dictionary = {}\n",
    "    for enemy_number in range(initial_enemy_number, maximum_enemy_number, 1):\n",
    "        win_rate = simNGames(number_of_simulations_run, Paladin_number, enemy_number, enemy_type, paladin_health)\n",
    "        dictionary[enemy_number] = win_rate\n",
    "    graph = plt.plot(list(dictionary.keys()), list(dictionary.values()))\n",
    "    graph = plt.xlabel('Enemy number')\n",
    "    graph = plt.ylabel('Win rate')\n"
   ]
  },
  {
   "cell_type": "code",
   "execution_count": 2,
   "metadata": {},
   "outputs": [],
   "source": [
    "if __name__ == '__main__':\n",
    "    # Modify configurefile.py to change the settings\n",
    "    number_of_simulations_run = configurefile.number_of_simulations_run\n",
    "    Paladin_number = configurefile.Paladin_number\n",
    "    initial_enemy_number = configurefile.INITIAL_ENEMY_NUMBER\n",
    "    maximum_enemy_number = configurefile.MAXIMUM_ENEMY_NUMBER\n",
    "    DEFAULT_PALADIN_ATTACK = configurefile.DEFAULT_PALADIN_ATTACK\n",
    "    DEFAULT_PALADIN_NORMAL_ARMOR = configurefile.DEFAULT_PALADIN_NORMAL_ARMOR\n",
    "    DEFAULT_PALADIN_PIERCE_ARMOR = configurefile.DEFAULT_PALADIN_PIERCE_ARMOR\n",
    "    PALADIN_HEALTH_WITHOUT_BLOODLINES = configurefile.PALADIN_HEALTH_WITHOUT_BLOODLINES\n",
    "    FRANKS_PALADIN_HEALTH = configurefile.FRANKS_PALADIN_HEALTH"
   ]
  },
  {
   "cell_type": "code",
   "execution_count": 3,
   "metadata": {},
   "outputs": [
    {
     "data": {
      "image/png": "[encoded data removed]",
      "text/plain": [
       "<Figure size 432x288 with 1 Axes>"
      ]
     },
     "metadata": {
      "needs_background": "light"
     },
     "output_type": "display_data"
    }
   ],
   "source": [
    "    draw_graph(PALADIN_HEALTH_WITHOUT_BLOODLINES, initial_enemy_number, maximum_enemy_number)"
   ]
  },
  {
   "cell_type": "code",
   "execution_count": 4,
   "metadata": {},
   "outputs": [
    {
     "data": {
      "image/png": "[encoded data removed]",
      "text/plain": [
       "<Figure size 432x288 with 1 Axes>"
      ]
     },
     "metadata": {
      "needs_background": "light"
     },
     "output_type": "display_data"
    }
   ],
   "source": [
    "    draw_graph(FRANKS_PALADIN_HEALTH, initial_enemy_number, maximum_enemy_number)"
   ]
  }
 ],
 "metadata": {
  "kernelspec": {
   "display_name": "Python 3",
   "language": "python",
   "name": "python3"
  },
  "language_info": {
   "codemirror_mode": {
    "name": "ipython",
    "version": 3
   },
   "file_extension": ".py",
   "mimetype": "text/x-python",
   "name": "python",
   "nbconvert_exporter": "python",
   "pygments_lexer": "ipython3",
   "version": "3.8.3"
  }
 },
 "nbformat": 4,
 "nbformat_minor": 4
}
